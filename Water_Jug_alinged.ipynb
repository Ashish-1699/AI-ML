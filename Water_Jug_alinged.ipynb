{
 "cells": [
  {
   "cell_type": "markdown",
   "metadata": {},
   "source": [
    "# Water Jug Problem"
   ]
  },
  {
   "cell_type": "code",
   "execution_count": 1,
   "metadata": {},
   "outputs": [],
   "source": [
    "# creating class water hug\n",
    "class waterjug:\n",
    "    c=int()\n",
    "    d=int()\n",
    "    parent=int()\n"
   ]
  },
  {
   "cell_type": "code",
   "execution_count": 2,
   "metadata": {},
   "outputs": [],
   "source": [
    "# initialize variables\n",
    "global p\n",
    "obj={}\n",
    "p=0"
   ]
  },
  {
   "cell_type": "code",
   "execution_count": 3,
   "metadata": {},
   "outputs": [],
   "source": [
    "# water jug object\n",
    "obj[p]=waterjug()\n",
    "\n",
    "obj[p].c=0\n",
    "obj[p].d=0\n",
    "obj[p].parent=0"
   ]
  },
  {
   "cell_type": "code",
   "execution_count": 4,
   "metadata": {},
   "outputs": [],
   "source": [
    "# fillA Function\n",
    "def fillA(lis,n):\n",
    "    global p\n",
    "    a=lis[n][0]\n",
    "    b=lis[n][1]\n",
    "    a=3\n",
    "    if [a,b] not in lis:\n",
    "        lis.append([a,b])\n",
    "        p=p+1\n",
    "        obj[p]=waterjug()\n",
    "        obj[p].c=a\n",
    "        obj[p].d=b\n",
    "        obj[p].parent=n\n",
    "           "
   ]
  },
  {
   "cell_type": "code",
   "execution_count": 5,
   "metadata": {},
   "outputs": [],
   "source": [
    "# fillB Function\n",
    "def fillB(lis,n):\n",
    "    global p\n",
    "    a=lis[n][0]\n",
    "    b=lis[n][1]\n",
    "    b=4\n",
    "    if [a,b] not in lis:\n",
    "        lis.append([a,b])\n",
    "        p=p+1\n",
    "        obj[p]=waterjug()\n",
    "        obj[p].c=a\n",
    "        obj[p].d=b \n",
    "        obj[p].parent=n"
   ]
  },
  {
   "cell_type": "code",
   "execution_count": 6,
   "metadata": {},
   "outputs": [],
   "source": [
    "# emptyA function\n",
    "def emptyA(lis,n):\n",
    "    global p\n",
    "    a=lis[n][0]\n",
    "    b=lis[n][1]\n",
    "    a=0;\n",
    "    \n",
    "    if [a,b] not in lis:\n",
    "        lis.append([a,b])\n",
    "        p=p+1\n",
    "        obj[p]=waterjug()\n",
    "        obj[p].c=a\n",
    "        obj[p].d=b \n",
    "        obj[p].parent=n"
   ]
  },
  {
   "cell_type": "code",
   "execution_count": 7,
   "metadata": {},
   "outputs": [],
   "source": [
    "#emptyB function\n",
    "def emptyB(lis,n):\n",
    "    global p\n",
    "    a=lis[n][0]\n",
    "    b=lis[n][1]\n",
    "    b=0;\n",
    "    \n",
    "    if [a,b] not in lis:\n",
    "        lis.append([a,b])\n",
    "        p=p+1\n",
    "        obj[p]=waterjug()\n",
    "        obj[p].c=a\n",
    "        obj[p].d=b \n",
    "        obj[p].parent=n"
   ]
  },
  {
   "cell_type": "code",
   "execution_count": 8,
   "metadata": {},
   "outputs": [],
   "source": [
    "# B to A function\n",
    "def BA(lis,n):\n",
    "    global p\n",
    "    a=lis[n][0]\n",
    "    b=lis[n][1]\n",
    "    v=a+b\n",
    "    if(v>3):\n",
    "        a=3\n",
    "        b=v-3\n",
    "    else:\n",
    "        a=v\n",
    "        b=0\n",
    "    if [a,b] not in lis:\n",
    "        lis.append([a,b])\n",
    "        p=p+1\n",
    "        obj[p]=waterjug()\n",
    "        obj[p].c=a\n",
    "        obj[p].d=b  \n",
    "        obj[p].parent=n"
   ]
  },
  {
   "cell_type": "code",
   "execution_count": 9,
   "metadata": {},
   "outputs": [],
   "source": [
    "# A to B function \n",
    "def AB(lis,n):\n",
    "    global p\n",
    "    a=lis[n][0]\n",
    "    b=lis[n][1]\n",
    "    v=a+b\n",
    "    if(v>4):\n",
    "        a=v-4\n",
    "        b=4\n",
    "    else:\n",
    "        a=0\n",
    "        b=v\n",
    "    if [a,b] not in lis:\n",
    "        lis.append([a,b])\n",
    "        p=p+1\n",
    "        obj[p]=waterjug()\n",
    "        obj[p].c=a\n",
    "        obj[p].d=b  \n",
    "        obj[p].parent=n"
   ]
  },
  {
   "cell_type": "code",
   "execution_count": 10,
   "metadata": {},
   "outputs": [
    {
     "name": "stdout",
     "output_type": "stream",
     "text": [
      "stop now 14\n"
     ]
    }
   ],
   "source": [
    "# calling function\n",
    "\n",
    "lis=[[0,0]]\n",
    "vlist=[]\n",
    "n=0\n",
    "check=1\n",
    "while(True):\n",
    "    try:\n",
    "        if check==1:\n",
    "            vlist.append( [ lis[n][0],lis[n][1] ] )\n",
    "            fillA(lis,n)\n",
    "            fillB(lis,n)\n",
    "            emptyA(lis,n)\n",
    "            emptyB(lis,n)\n",
    "            AB(lis,n)\n",
    "            BA(lis,n)\n",
    "            n=n+1 \n",
    "    except:\n",
    "        check=0\n",
    "        print(\"stop now\",n)\n",
    "        break\n",
    "        "
   ]
  },
  {
   "cell_type": "code",
   "execution_count": 11,
   "metadata": {},
   "outputs": [
    {
     "data": {
      "text/plain": [
       "{0: <__main__.waterjug at 0x25c3879a860>,\n",
       " 1: <__main__.waterjug at 0x25c387aaef0>,\n",
       " 2: <__main__.waterjug at 0x25c387aaf28>,\n",
       " 3: <__main__.waterjug at 0x25c387aaf60>,\n",
       " 4: <__main__.waterjug at 0x25c387aaf98>,\n",
       " 5: <__main__.waterjug at 0x25c387aafd0>,\n",
       " 6: <__main__.waterjug at 0x25c387b6048>,\n",
       " 7: <__main__.waterjug at 0x25c387b6080>,\n",
       " 8: <__main__.waterjug at 0x25c387b60b8>,\n",
       " 9: <__main__.waterjug at 0x25c387b60f0>,\n",
       " 10: <__main__.waterjug at 0x25c387b6128>,\n",
       " 11: <__main__.waterjug at 0x25c387b6160>,\n",
       " 12: <__main__.waterjug at 0x25c387b6198>,\n",
       " 13: <__main__.waterjug at 0x25c387b61d0>}"
      ]
     },
     "execution_count": 11,
     "metadata": {},
     "output_type": "execute_result"
    }
   ],
   "source": [
    "# objects\n",
    "obj"
   ]
  },
  {
   "cell_type": "markdown",
   "metadata": {},
   "source": [
    "Fist column is jugA value Second column is Jug 2 Value and third column is their parent node"
   ]
  },
  {
   "cell_type": "code",
   "execution_count": 12,
   "metadata": {},
   "outputs": [
    {
     "name": "stdout",
     "output_type": "stream",
     "text": [
      "0 0 0\n",
      "3 0 0\n",
      "0 4 0\n",
      "3 4 1\n",
      "0 3 1\n",
      "3 1 2\n",
      "3 3 4\n",
      "0 1 5\n",
      "2 4 6\n",
      "1 0 7\n",
      "2 0 8\n",
      "1 4 9\n",
      "0 2 10\n",
      "3 2 11\n"
     ]
    }
   ],
   "source": [
    "a=0\n",
    "while(a!=n):\n",
    "    print(obj[a].c,obj[a].d,obj[a].parent)\n",
    "    a=a+1"
   ]
  },
  {
   "cell_type": "markdown",
   "metadata": {},
   "source": [
    "final path in reverse order"
   ]
  },
  {
   "cell_type": "code",
   "execution_count": 13,
   "metadata": {},
   "outputs": [
    {
     "name": "stdout",
     "output_type": "stream",
     "text": [
      "2 0\n",
      "2 4\n",
      "3 3\n",
      "0 3\n",
      "3 0\n",
      "0 0\n"
     ]
    }
   ],
   "source": [
    "index=0\n",
    "x=0\n",
    "m=2\n",
    "k=0\n",
    "print(m,k)\n",
    "while True:\n",
    "   \n",
    "    if(obj[x].c==m and obj[x].d==k):\n",
    "        index=(obj[x].parent)\n",
    "        m=lis[index][0]\n",
    "        k=lis[index][1]\n",
    "        print(m,k)\n",
    "        if(index==0):\n",
    "            break\n",
    " \n",
    "        x=0\n",
    "    x=x+1\n",
    "    "
   ]
  },
  {
   "cell_type": "code",
   "execution_count": null,
   "metadata": {},
   "outputs": [],
   "source": []
  }
 ],
 "metadata": {
  "kernelspec": {
   "display_name": "Python 3",
   "language": "python",
   "name": "python3"
  },
  "language_info": {
   "codemirror_mode": {
    "name": "ipython",
    "version": 3
   },
   "file_extension": ".py",
   "mimetype": "text/x-python",
   "name": "python",
   "nbconvert_exporter": "python",
   "pygments_lexer": "ipython3",
   "version": "3.7.3"
  }
 },
 "nbformat": 4,
 "nbformat_minor": 2
}
