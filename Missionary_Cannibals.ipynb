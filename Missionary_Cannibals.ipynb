{
 "cells": [
  {
   "cell_type": "code",
   "execution_count": 20,
   "metadata": {},
   "outputs": [],
   "source": [
    "def F_oneM_oneC(lis,n):\n",
    "    global p\n",
    "    a=lis[n][0]-1\n",
    "    b=lis[n][1]-1\n",
    "    c=3-a\n",
    "    d=3-b\n",
    "    e=0\n",
    "    \n",
    "    if(a<=3 and a>=0 and b<=3 and b>=0 and a>=b and c>=d and c<=3 and c>=0 and d<=3 and d>=0 ):\n",
    "        if([a,b,c,d,e] not in lis):\n",
    "            lis.append([a,b,c,d,e])\n",
    "            p=p+1\n",
    "            obj[p]=canibal()\n",
    "            obj[p].a=a\n",
    "            obj[p].b=b\n",
    "            obj[p].c=c\n",
    "            obj[p].d=d\n",
    "            obj[p].e=e\n",
    "            obj[p].parent=n\n",
    "            \n",
    "            \n",
    "\n",
    "    if(a==0 or c==0 ):\n",
    "        if(a>=0 and a<=3 and c<=3 and c>=0 and d<=3 and d>=0 and b>=0 and b<=3):\n",
    "            if([a,b,c,d,e] not in lis):\n",
    "                lis.append([a,b,c,d,e])\n",
    "                p=p+1\n",
    "                obj[p]=canibal()\n",
    "                obj[p].a=a\n",
    "                obj[p].b=b\n",
    "                obj[p].c=c\n",
    "                obj[p].d=d\n",
    "                obj[p].e=e\n",
    "                obj[p].parent=n\n",
    "                \n",
    "\n",
    "            \n",
    "            "
   ]
  },
  {
   "cell_type": "code",
   "execution_count": 21,
   "metadata": {},
   "outputs": [],
   "source": [
    "def F_twoM(lis,n):\n",
    "    global p\n",
    "    a=lis[n][0]-2\n",
    "    b=lis[n][1]\n",
    "    c=3-a\n",
    "    d=3-b\n",
    "    e=0\n",
    "    \n",
    "    if(a<=3 and a>=0 and b<=3 and b>=0 and a>=b and c>=d and c<=3 and c>=0 and d<=3 and d>=0 ):\n",
    "        if([a,b,c,d,e] not in lis):\n",
    "            lis.append([a,b,c,d,e])\n",
    "            p=p+1\n",
    "            obj[p]=canibal()\n",
    "            obj[p].a=a\n",
    "            obj[p].b=b\n",
    "            obj[p].c=c\n",
    "            obj[p].d=d\n",
    "            obj[p].e=e\n",
    "            obj[p].parent=n\n",
    "            \n",
    "\n",
    "    if(a==0 or c==0 ):\n",
    "        if(a>=0 and a<=3 and c<=3 and c>=0 and d<=3 and d>=0 and b>=0 and b<=3):\n",
    "            if([a,b,c,d,e] not in lis):\n",
    "                lis.append([a,b,c,d,e])\n",
    "                p=p+1\n",
    "                obj[p]=canibal()\n",
    "                obj[p].a=a\n",
    "                obj[p].b=b\n",
    "                obj[p].c=c\n",
    "                obj[p].d=d\n",
    "                obj[p].e=e\n",
    "                obj[p].parent=n\n",
    "                "
   ]
  },
  {
   "cell_type": "code",
   "execution_count": 22,
   "metadata": {},
   "outputs": [],
   "source": [
    "def F_twoC(lis,n):\n",
    "    global p\n",
    "    a=lis[n][0]\n",
    "    b=lis[n][1]-2\n",
    "    c=3-a\n",
    "    d=3-b\n",
    "    e=0\n",
    "    \n",
    "    if(a<=3 and a>=0 and b<=3 and b>=0 and a>=b and c>=d and c<=3 and c>=0 and d<=3 and d>=0 ):\n",
    "        if([a,b,c,d,e] not in lis):\n",
    "            lis.append([a,b,c,d,e])\n",
    "            p=p+1\n",
    "            obj[p]=canibal()\n",
    "            obj[p].a=a\n",
    "            obj[p].b=b\n",
    "            obj[p].c=c\n",
    "            obj[p].d=d\n",
    "            obj[p].e=e\n",
    "            obj[p].parent=n\n",
    "            \n",
    "\n",
    "    if(a==0 or c==0 ):\n",
    "        if(a>=0 and a<=3 and c<=3 and c>=0 and d<=3 and d>=0 and b>=0 and b<=3):\n",
    "            if([a,b,c,d,e] not in lis):\n",
    "                lis.append([a,b,c,d,e])\n",
    "                p=p+1\n",
    "                obj[p]=canibal()\n",
    "                obj[p].a=a\n",
    "                obj[p].b=b\n",
    "                obj[p].c=c\n",
    "                obj[p].d=d\n",
    "                obj[p].e=e\n",
    "                obj[p].parent=n\n",
    "                \n"
   ]
  },
  {
   "cell_type": "code",
   "execution_count": 23,
   "metadata": {},
   "outputs": [],
   "source": [
    "def B_oneM(lis,n):\n",
    "    global p\n",
    "    a=lis[n][0]+1\n",
    "    b=lis[n][1]\n",
    "    c=3-a\n",
    "    d=3-b\n",
    "    e=1\n",
    "    \n",
    "    if(a<=3 and a>=0 and b<=3 and b>=0 and a>=b and c>=d and c<=3 and c>=0 and d<=3 and d>=0 ):\n",
    "        if([a,b,c,d,e] not in lis):\n",
    "            lis.append([a,b,c,d,e])\n",
    "            p=p+1\n",
    "            obj[p]=canibal()\n",
    "            obj[p].a=a\n",
    "            obj[p].b=b\n",
    "            obj[p].c=c\n",
    "            obj[p].d=d\n",
    "            obj[p].e=e\n",
    "            obj[p].parent=n\n",
    "            \n",
    "\n",
    "    if(a==0 or c==0 ):\n",
    "        if(a>=0 and a<=3 and c<=3 and c>=0 and d<=3 and d>=0 and b>=0 and b<=3):\n",
    "            if([a,b,c,d,e] not in lis):\n",
    "                lis.append([a,b,c,d,e])\n",
    "                p=p+1\n",
    "                obj[p]=canibal()\n",
    "                obj[p].a=a\n",
    "                obj[p].b=b\n",
    "                obj[p].c=c\n",
    "                obj[p].d=d\n",
    "                obj[p].e=e\n",
    "                obj[p].parent=n\n",
    "                "
   ]
  },
  {
   "cell_type": "code",
   "execution_count": 24,
   "metadata": {},
   "outputs": [],
   "source": [
    "def B_oneC(lis,n):\n",
    "    global p\n",
    "    a=lis[n][0]\n",
    "    b=lis[n][1]+1\n",
    "    c=3-a\n",
    "    d=3-b\n",
    "    e=1\n",
    "    \n",
    "    if(a<=3 and a>=0 and b<=3 and b>=0 and a>=b and c>=d and c<=3 and c>=0 and d<=3 and d>=0 ):\n",
    "        if([a,b,c,d,e] not in lis):\n",
    "            lis.append([a,b,c,d,e])\n",
    "            p=p+1\n",
    "            obj[p]=canibal()\n",
    "            obj[p].a=a\n",
    "            obj[p].b=b\n",
    "            obj[p].c=c\n",
    "            obj[p].d=d\n",
    "            obj[p].e=e\n",
    "            obj[p].parent=n\n",
    "            \n",
    "\n",
    "    if(a==0 or c==0 ):\n",
    "        if(a>=0 and a<=3 and c<=3 and c>=0 and d<=3 and d>=0 and b>=0 and b<=3):\n",
    "            if([a,b,c,d,e] not in lis):\n",
    "                lis.append([a,b,c,d,e])\n",
    "                p=p+1\n",
    "                obj[p]=canibal()\n",
    "                obj[p].a=a\n",
    "                obj[p].b=b\n",
    "                obj[p].c=c\n",
    "                obj[p].d=d\n",
    "                obj[p].e=e\n",
    "                obj[p].parent=n\n",
    "                "
   ]
  },
  {
   "cell_type": "code",
   "execution_count": 25,
   "metadata": {},
   "outputs": [],
   "source": [
    "def B_twoM(lis,n):\n",
    "    global p\n",
    "    a=lis[n][0]+2\n",
    "    b=lis[n][1]\n",
    "    c=3-a\n",
    "    d=3-b\n",
    "    e=1\n",
    "    \n",
    "    if(a<=3 and a>=0 and b<=3 and b>=0 and a>=b and c>=d and c<=3 and c>=0 and d<=3 and d>=0 ):\n",
    "        if([a,b,c,d,e] not in lis):\n",
    "            lis.append([a,b,c,d,e])\n",
    "            p=p+1\n",
    "            obj[p]=canibal()\n",
    "            obj[p].a=a\n",
    "            obj[p].b=b\n",
    "            obj[p].c=c\n",
    "            obj[p].d=d\n",
    "            obj[p].e=e\n",
    "            obj[p].parent=n\n",
    "            \n",
    "\n",
    "    if(a==0 or c==0 ):\n",
    "        if(a>=0 and a<=3 and c<=3 and c>=0 and d<=3 and d>=0 and b>=0 and b<=3):\n",
    "            if([a,b,c,d,e] not in lis):\n",
    "                lis.append([a,b,c,d,e])\n",
    "                p=p+1\n",
    "                obj[p]=canibal()\n",
    "                obj[p].a=a\n",
    "                obj[p].b=b\n",
    "                obj[p].c=c\n",
    "                obj[p].d=d\n",
    "                obj[p].e=e\n",
    "                obj[p].parent=n\n",
    "                "
   ]
  },
  {
   "cell_type": "code",
   "execution_count": 26,
   "metadata": {},
   "outputs": [],
   "source": [
    "def B_twoC(lis,n):\n",
    "    global p\n",
    "    a=lis[n][0]\n",
    "    b=lis[n][1]+2\n",
    "    c=3-a\n",
    "    d=3-b\n",
    "    e=1\n",
    "    \n",
    "    if(a<=3 and a>=0 and b<=3 and b>=0 and a>=b and c>=d and c<=3 and c>=0 and d<=3 and d>=0 ):\n",
    "        if([a,b,c,d,e] not in lis):\n",
    "            lis.append([a,b,c,d,e])\n",
    "            p=p+1\n",
    "            obj[p]=canibal()\n",
    "            obj[p].a=a\n",
    "            obj[p].b=b\n",
    "            obj[p].c=c\n",
    "            obj[p].d=d\n",
    "            obj[p].e=e\n",
    "            obj[p].parent=n\n",
    "        \n",
    "\n",
    "    if(a==0 or c==0 ):\n",
    "        if(a>=0 and a<=3 and c<=3 and c>=0 and d<=3 and d>=0 and b>=0 and b<=3):\n",
    "            if([a,b,c,d,e] not in lis):\n",
    "                lis.append([a,b,c,d,e])\n",
    "                p=p+1\n",
    "                obj[p]=canibal()\n",
    "                obj[p].a=a\n",
    "                obj[p].b=b\n",
    "                obj[p].c=c\n",
    "                obj[p].d=d\n",
    "                obj[p].e=e\n",
    "                obj[p].parent=n\n",
    "                "
   ]
  },
  {
   "cell_type": "code",
   "execution_count": 27,
   "metadata": {},
   "outputs": [],
   "source": [
    "def B_oneM_oneC(lis,n):\n",
    "    global p\n",
    "    a=lis[n][0]+1\n",
    "    b=lis[n][1]+1\n",
    "    c=3-a\n",
    "    d=3-b\n",
    "    e=1\n",
    "    \n",
    "    if(a<=3 and a>=0 and b<=3 and b>=0 and a>=b and c>=d and c<=3 and c>=0 and d<=3 and d>=0 ):\n",
    "        if([a,b,c,d,e] not in lis):\n",
    "            lis.append([a,b,c,d,e])\n",
    "            p=p+1\n",
    "            obj[p]=canibal()\n",
    "            obj[p].a=a\n",
    "            obj[p].b=b\n",
    "            obj[p].c=c\n",
    "            obj[p].d=d\n",
    "            obj[p].e=e\n",
    "            obj[p].parent=n\n",
    "            \n",
    "\n",
    "    if(a==0 or c==0 ):\n",
    "        if(a>=0 and a<=3 and c<=3 and c>=0 and d<=3 and d>=0 and b>=0 and b<=3):\n",
    "            if([a,b,c,d,e] not in lis):\n",
    "                lis.append([a,b,c,d,e])\n",
    "                p=p+1\n",
    "                obj[p]=canibal()\n",
    "                obj[p].a=a\n",
    "                obj[p].b=b\n",
    "                obj[p].c=c\n",
    "                obj[p].d=d\n",
    "                obj[p].e=e\n",
    "                obj[p].parent=n\n",
    "                \n",
    "    "
   ]
  },
  {
   "cell_type": "code",
   "execution_count": 28,
   "metadata": {},
   "outputs": [],
   "source": [
    "lis=[[3,3,0,0,1]]\n",
    "n=0\n",
    "count=0\n",
    "l=len(lis)\n",
    "a=0\n",
    "b=0\n",
    "c=0\n",
    "while(True):\n",
    "    a=len(lis)\n",
    "    ans=len(lis)-b\n",
    "    \n",
    "    for i in range(ans):\n",
    "        F_oneM_oneC(lis,n)\n",
    "        F_twoM(lis,n)\n",
    "        F_twoC(lis,n)\n",
    "        n=n+1\n",
    "    \n",
    "    b=len(lis)\n",
    "    for j in range(b-a):\n",
    "        B_oneM(lis,n)\n",
    "        B_oneC(lis,n)\n",
    "        B_twoM(lis,n)\n",
    "        B_twoC(lis,n)\n",
    "        B_oneM_oneC(lis,n)\n",
    "        n=n+1\n",
    "    if((n)==len(lis)):\n",
    "        break\n",
    "        \n",
    "  \n",
    "   \n"
   ]
  },
  {
   "cell_type": "code",
   "execution_count": null,
   "metadata": {},
   "outputs": [],
   "source": [
    "lis"
   ]
  },
  {
   "cell_type": "code",
   "execution_count": null,
   "metadata": {},
   "outputs": [],
   "source": [
    "n"
   ]
  },
  {
   "cell_type": "code",
   "execution_count": 10,
   "metadata": {},
   "outputs": [],
   "source": [
    "class canibal:\n",
    "    a=int()\n",
    "    b=int()\n",
    "    c=int()\n",
    "    d=int()\n",
    "    parent=int()"
   ]
  },
  {
   "cell_type": "code",
   "execution_count": 11,
   "metadata": {},
   "outputs": [],
   "source": [
    "obj={}"
   ]
  },
  {
   "cell_type": "code",
   "execution_count": 12,
   "metadata": {},
   "outputs": [],
   "source": [
    "global p"
   ]
  },
  {
   "cell_type": "code",
   "execution_count": 13,
   "metadata": {},
   "outputs": [],
   "source": [
    "p=0"
   ]
  },
  {
   "cell_type": "code",
   "execution_count": 14,
   "metadata": {},
   "outputs": [],
   "source": [
    "obj[p]=canibal()"
   ]
  },
  {
   "cell_type": "code",
   "execution_count": 15,
   "metadata": {},
   "outputs": [],
   "source": [
    "obj[p].a=3\n",
    "obj[p].b=3\n",
    "obj[p].c=0\n",
    "obj[p].d=0\n",
    "obj[p].e=1\n",
    "obj[p].parent=-1\n"
   ]
  },
  {
   "cell_type": "code",
   "execution_count": 16,
   "metadata": {},
   "outputs": [
    {
     "data": {
      "text/plain": [
       "{0: <__main__.canibal at 0x224a5e142e8>}"
      ]
     },
     "execution_count": 16,
     "metadata": {},
     "output_type": "execute_result"
    }
   ],
   "source": [
    "obj"
   ]
  },
  {
   "cell_type": "code",
   "execution_count": 29,
   "metadata": {},
   "outputs": [
    {
     "name": "stdout",
     "output_type": "stream",
     "text": [
      "3 3 0 0 1 -1\n",
      "2 2 1 1 0 0\n",
      "3 1 0 2 0 0\n",
      "3 2 0 1 1 1\n",
      "3 0 0 3 0 3\n",
      "3 1 0 2 1 4\n",
      "1 1 2 2 0 5\n",
      "2 2 1 1 1 6\n",
      "0 2 3 1 0 7\n",
      "0 3 3 0 1 8\n",
      "0 1 3 2 0 9\n",
      "1 1 2 2 1 10\n",
      "0 2 3 1 1 10\n",
      "0 0 3 3 0 11\n",
      "0 1 3 2 1 13\n"
     ]
    }
   ],
   "source": [
    "x=0\n",
    "while(x!=15):\n",
    "    print(obj[x].a,obj[x].b,obj[x].c,obj[x].d,obj[x].e,obj[x].parent)\n",
    "    x=x+1"
   ]
  },
  {
   "cell_type": "code",
   "execution_count": 30,
   "metadata": {},
   "outputs": [
    {
     "data": {
      "text/plain": [
       "[[3, 3, 0, 0, 1],\n",
       " [2, 2, 1, 1, 0],\n",
       " [3, 1, 0, 2, 0],\n",
       " [3, 2, 0, 1, 1],\n",
       " [3, 0, 0, 3, 0],\n",
       " [3, 1, 0, 2, 1],\n",
       " [1, 1, 2, 2, 0],\n",
       " [2, 2, 1, 1, 1],\n",
       " [0, 2, 3, 1, 0],\n",
       " [0, 3, 3, 0, 1],\n",
       " [0, 1, 3, 2, 0],\n",
       " [1, 1, 2, 2, 1],\n",
       " [0, 2, 3, 1, 1],\n",
       " [0, 0, 3, 3, 0],\n",
       " [0, 1, 3, 2, 1]]"
      ]
     },
     "execution_count": 30,
     "metadata": {},
     "output_type": "execute_result"
    }
   ],
   "source": [
    "lis"
   ]
  },
  {
   "cell_type": "code",
   "execution_count": 31,
   "metadata": {},
   "outputs": [
    {
     "name": "stdout",
     "output_type": "stream",
     "text": [
      "0 0 3 3 0\n",
      "1 1 2 2 1\n",
      "0 1 3 2 0\n",
      "0 3 3 0 1\n",
      "0 2 3 1 0\n",
      "2 2 1 1 1\n",
      "1 1 2 2 0\n",
      "3 1 0 2 1\n",
      "3 0 0 3 0\n",
      "3 2 0 1 1\n",
      "2 2 1 1 0\n",
      "3 3 0 0 1\n"
     ]
    }
   ],
   "source": [
    "index=0\n",
    "x=0\n",
    "m=0\n",
    "k=0\n",
    "n=3\n",
    "o=3\n",
    "f=0\n",
    "\n",
    "print(m,k,n,o,f)\n",
    "while True:\n",
    "   \n",
    "    if(obj[x].a==m and obj[x].b==k and obj[x].c==n and obj[x].d==o and obj[x].e==f):\n",
    "        index=(obj[x].parent)\n",
    "        m=lis[index][0]\n",
    "        k=lis[index][1]\n",
    "        n=lis[index][2]\n",
    "        o=lis[index][3]\n",
    "        f=lis[index][4]\n",
    "       \n",
    "        print(m,k,n,o,f)\n",
    "        if(index==0):\n",
    "            break\n",
    " \n",
    "        x=0\n",
    "    x=x+1"
   ]
  },
  {
   "cell_type": "code",
   "execution_count": null,
   "metadata": {},
   "outputs": [],
   "source": []
  },
  {
   "cell_type": "code",
   "execution_count": null,
   "metadata": {},
   "outputs": [],
   "source": []
  }
 ],
 "metadata": {
  "kernelspec": {
   "display_name": "Python 3",
   "language": "python",
   "name": "python3"
  },
  "language_info": {
   "codemirror_mode": {
    "name": "ipython",
    "version": 3
   },
   "file_extension": ".py",
   "mimetype": "text/x-python",
   "name": "python",
   "nbconvert_exporter": "python",
   "pygments_lexer": "ipython3",
   "version": "3.7.3"
  }
 },
 "nbformat": 4,
 "nbformat_minor": 2
}
