{
 "cells": [
  {
   "cell_type": "code",
   "execution_count": 6,
   "metadata": {},
   "outputs": [],
   "source": [
    "class waterjug:\n",
    "    c=int()\n",
    "    d=int()\n",
    "    parent=int()\n"
   ]
  },
  {
   "cell_type": "code",
   "execution_count": null,
   "metadata": {},
   "outputs": [],
   "source": []
  },
  {
   "cell_type": "code",
   "execution_count": null,
   "metadata": {},
   "outputs": [],
   "source": []
  },
  {
   "cell_type": "code",
   "execution_count": 7,
   "metadata": {},
   "outputs": [],
   "source": [
    "global p"
   ]
  },
  {
   "cell_type": "code",
   "execution_count": 8,
   "metadata": {},
   "outputs": [],
   "source": [
    "obj={}"
   ]
  },
  {
   "cell_type": "code",
   "execution_count": 9,
   "metadata": {},
   "outputs": [],
   "source": [
    "p=0"
   ]
  },
  {
   "cell_type": "code",
   "execution_count": 10,
   "metadata": {},
   "outputs": [
    {
     "data": {
      "text/plain": [
       "{}"
      ]
     },
     "execution_count": 10,
     "metadata": {},
     "output_type": "execute_result"
    }
   ],
   "source": [
    "obj"
   ]
  },
  {
   "cell_type": "code",
   "execution_count": null,
   "metadata": {},
   "outputs": [],
   "source": []
  },
  {
   "cell_type": "code",
   "execution_count": 11,
   "metadata": {},
   "outputs": [],
   "source": [
    "obj[p]=waterjug()"
   ]
  },
  {
   "cell_type": "code",
   "execution_count": 12,
   "metadata": {},
   "outputs": [],
   "source": [
    "obj[p].c=0\n",
    "obj[p].d=0\n",
    "obj[p].parent=0"
   ]
  },
  {
   "cell_type": "code",
   "execution_count": null,
   "metadata": {},
   "outputs": [],
   "source": []
  },
  {
   "cell_type": "code",
   "execution_count": 20,
   "metadata": {},
   "outputs": [
    {
     "name": "stdout",
     "output_type": "stream",
     "text": [
      "stop now 14\n"
     ]
    }
   ],
   "source": [
    "lis=[[0,0]]\n",
    "vlist=[]\n",
    "n=0\n",
    "check=1\n",
    "while(True):\n",
    "    try:\n",
    "        if check==1:\n",
    "            vlist.append( [ lis[n][0],lis[n][1] ] )\n",
    "            fillA(lis,n)\n",
    "            fillB(lis,n)\n",
    "            emptyA(lis,n)\n",
    "            emptyB(lis,n)\n",
    "            AB(lis,n)\n",
    "            BA(lis,n)\n",
    "            n=n+1 \n",
    "    except:\n",
    "        check=0\n",
    "        print(\"stop now\",n)\n",
    "        break\n",
    "        "
   ]
  },
  {
   "cell_type": "code",
   "execution_count": null,
   "metadata": {},
   "outputs": [],
   "source": [
    "lis"
   ]
  },
  {
   "cell_type": "code",
   "execution_count": 21,
   "metadata": {},
   "outputs": [
    {
     "data": {
      "text/plain": [
       "{0: <__main__.waterjug at 0x20b9d0bf828>,\n",
       " 1: <__main__.waterjug at 0x20b9d07e748>,\n",
       " 2: <__main__.waterjug at 0x20b9d07e9e8>,\n",
       " 3: <__main__.waterjug at 0x20b9d07ed30>,\n",
       " 4: <__main__.waterjug at 0x20b9d07eba8>,\n",
       " 5: <__main__.waterjug at 0x20b9d07ef60>,\n",
       " 6: <__main__.waterjug at 0x20b9d07e7f0>,\n",
       " 7: <__main__.waterjug at 0x20b9d07ec88>,\n",
       " 8: <__main__.waterjug at 0x20b9d07e908>,\n",
       " 9: <__main__.waterjug at 0x20b9d07ecf8>,\n",
       " 10: <__main__.waterjug at 0x20b9d07eb70>,\n",
       " 11: <__main__.waterjug at 0x20b9d07ea20>,\n",
       " 12: <__main__.waterjug at 0x20b9d07eb00>,\n",
       " 13: <__main__.waterjug at 0x20b9d07eac8>}"
      ]
     },
     "execution_count": 21,
     "metadata": {},
     "output_type": "execute_result"
    }
   ],
   "source": [
    "obj"
   ]
  },
  {
   "cell_type": "code",
   "execution_count": null,
   "metadata": {},
   "outputs": [],
   "source": []
  },
  {
   "cell_type": "code",
   "execution_count": 14,
   "metadata": {},
   "outputs": [],
   "source": [
    "def fillA(lis,n):\n",
    "    global p\n",
    "    a=lis[n][0]\n",
    "    b=lis[n][1]\n",
    "    a=3\n",
    "    if [a,b] not in lis:\n",
    "        lis.append([a,b])\n",
    "        p=p+1\n",
    "        obj[p]=waterjug()\n",
    "        obj[p].c=a\n",
    "        obj[p].d=b\n",
    "        obj[p].parent=n\n",
    "           "
   ]
  },
  {
   "cell_type": "code",
   "execution_count": 15,
   "metadata": {},
   "outputs": [],
   "source": [
    "def fillB(lis,n):\n",
    "    global p\n",
    "    a=lis[n][0]\n",
    "    b=lis[n][1]\n",
    "    b=4\n",
    "    if [a,b] not in lis:\n",
    "        lis.append([a,b])\n",
    "        p=p+1\n",
    "        obj[p]=waterjug()\n",
    "        obj[p].c=a\n",
    "        obj[p].d=b \n",
    "        obj[p].parent=n"
   ]
  },
  {
   "cell_type": "code",
   "execution_count": 16,
   "metadata": {},
   "outputs": [],
   "source": [
    "def emptyA(lis,n):\n",
    "    global p\n",
    "    a=lis[n][0]\n",
    "    b=lis[n][1]\n",
    "    a=0;\n",
    "    \n",
    "    if [a,b] not in lis:\n",
    "        lis.append([a,b])\n",
    "        p=p+1\n",
    "        obj[p]=waterjug()\n",
    "        obj[p].c=a\n",
    "        obj[p].d=b \n",
    "        obj[p].parent=n"
   ]
  },
  {
   "cell_type": "code",
   "execution_count": 17,
   "metadata": {},
   "outputs": [],
   "source": [
    "def emptyB(lis,n):\n",
    "    global p\n",
    "    a=lis[n][0]\n",
    "    b=lis[n][1]\n",
    "    b=0;\n",
    "    \n",
    "    if [a,b] not in lis:\n",
    "        lis.append([a,b])\n",
    "        p=p+1\n",
    "        obj[p]=waterjug()\n",
    "        obj[p].c=a\n",
    "        obj[p].d=b \n",
    "        obj[p].parent=n"
   ]
  },
  {
   "cell_type": "code",
   "execution_count": 18,
   "metadata": {},
   "outputs": [],
   "source": [
    "def BA(lis,n):\n",
    "    global p\n",
    "    a=lis[n][0]\n",
    "    b=lis[n][1]\n",
    "    v=a+b\n",
    "    if(v>3):\n",
    "        a=3\n",
    "        b=v-3\n",
    "    else:\n",
    "        a=v\n",
    "        b=0\n",
    "    if [a,b] not in lis:\n",
    "        lis.append([a,b])\n",
    "        p=p+1\n",
    "        obj[p]=waterjug()\n",
    "        obj[p].c=a\n",
    "        obj[p].d=b  \n",
    "        obj[p].parent=n"
   ]
  },
  {
   "cell_type": "code",
   "execution_count": 19,
   "metadata": {},
   "outputs": [],
   "source": [
    "def AB(lis,n):\n",
    "    global p\n",
    "    a=lis[n][0]\n",
    "    b=lis[n][1]\n",
    "    v=a+b\n",
    "    if(v>4):\n",
    "        a=v-4\n",
    "        b=4\n",
    "    else:\n",
    "        a=0\n",
    "        b=v\n",
    "    if [a,b] not in lis:\n",
    "        lis.append([a,b])\n",
    "        p=p+1\n",
    "        obj[p]=waterjug()\n",
    "        obj[p].c=a\n",
    "        obj[p].d=b  \n",
    "        obj[p].parent=n"
   ]
  },
  {
   "cell_type": "code",
   "execution_count": null,
   "metadata": {},
   "outputs": [],
   "source": []
  },
  {
   "cell_type": "code",
   "execution_count": null,
   "metadata": {
    "scrolled": false
   },
   "outputs": [],
   "source": []
  },
  {
   "cell_type": "code",
   "execution_count": null,
   "metadata": {},
   "outputs": [],
   "source": [
    "n=14"
   ]
  },
  {
   "cell_type": "code",
   "execution_count": null,
   "metadata": {},
   "outputs": [],
   "source": [
    "n"
   ]
  },
  {
   "cell_type": "code",
   "execution_count": 26,
   "metadata": {
    "scrolled": true
   },
   "outputs": [
    {
     "name": "stdout",
     "output_type": "stream",
     "text": [
      "2 0\n",
      "2 4\n",
      "3 3\n",
      "0 3\n",
      "3 0\n",
      "0 0\n"
     ]
    }
   ],
   "source": [
    "index=0\n",
    "x=0\n",
    "m=2\n",
    "k=0\n",
    "print(m,k)\n",
    "while True:\n",
    "   \n",
    "    if(obj[x].c==m and obj[x].d==k):\n",
    "        index=(obj[x].parent)\n",
    "        m=lis[index][0]\n",
    "        k=lis[index][1]\n",
    "        print(m,k)\n",
    "        if(index==0):\n",
    "            break\n",
    " \n",
    "        x=0\n",
    "    x=x+1\n",
    "    "
   ]
  },
  {
   "cell_type": "code",
   "execution_count": null,
   "metadata": {},
   "outputs": [],
   "source": []
  },
  {
   "cell_type": "code",
   "execution_count": 19,
   "metadata": {},
   "outputs": [
    {
     "name": "stdout",
     "output_type": "stream",
     "text": [
      "0 0 0\n",
      "3 0 0\n",
      "0 4 0\n",
      "3 4 1\n",
      "0 3 1\n",
      "3 1 2\n",
      "3 3 4\n",
      "0 1 5\n",
      "2 4 6\n",
      "1 0 7\n",
      "2 0 8\n",
      "1 4 9\n",
      "0 2 10\n",
      "3 2 11\n"
     ]
    }
   ],
   "source": [
    "a=0\n",
    "while(a!=14):\n",
    "    print(obj[a].c,obj[a].d,obj[a].parent)\n",
    "    a=a+1"
   ]
  }
 ],
 "metadata": {
  "kernelspec": {
   "display_name": "Python 3",
   "language": "python",
   "name": "python3"
  },
  "language_info": {
   "codemirror_mode": {
    "name": "ipython",
    "version": 3
   },
   "file_extension": ".py",
   "mimetype": "text/x-python",
   "name": "python",
   "nbconvert_exporter": "python",
   "pygments_lexer": "ipython3",
   "version": "3.7.3"
  }
 },
 "nbformat": 4,
 "nbformat_minor": 2
}
